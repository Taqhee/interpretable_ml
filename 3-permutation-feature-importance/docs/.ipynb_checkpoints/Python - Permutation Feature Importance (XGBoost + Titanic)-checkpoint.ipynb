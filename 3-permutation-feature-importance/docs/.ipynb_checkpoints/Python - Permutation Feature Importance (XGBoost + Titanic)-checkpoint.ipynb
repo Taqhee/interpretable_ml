{
 "cells": [
  {
   "cell_type": "markdown",
   "metadata": {
    "ExecuteTime": {
     "end_time": "2018-02-06T12:49:16.678043Z",
     "start_time": "2018-02-06T12:49:16.672681Z"
    }
   },
   "source": [
    "## Abstract\n",
    "\n",
    "In this document I will calculate the importance of each feature in a complex model (XGBoost) using **Permutation Feature Importance**. For more information about **Permutation Feature Importance**, go and read the great book [Interpretable Machine Learning](https://christophm.github.io/interpretable-ml-book/permutation-feature-importance.html).\n",
    "\n",
    "I tried to use the [ELI5]() python package, but it has been impossible. So I did it myself (it is very easy)."
   ]
  },
  {
   "cell_type": "markdown",
   "metadata": {
    "ExecuteTime": {
     "end_time": "2018-02-06T12:50:30.520182Z",
     "start_time": "2018-02-06T12:50:30.517682Z"
    }
   },
   "source": [
    "## Load the model, the data and the needed packages"
   ]
  },
  {
   "cell_type": "code",
   "execution_count": 1,
   "metadata": {
    "ExecuteTime": {
     "end_time": "2018-02-07T13:06:06.195043Z",
     "start_time": "2018-02-07T13:06:05.653622Z"
    }
   },
   "outputs": [],
   "source": [
    "import numpy as np\n",
    "import pandas as pd\n",
    "import matplotlib.pyplot as plt\n",
    "import seaborn as sns\n",
    "from sklearn.externals import joblib\n",
    "import warnings\n",
    "import pdb"
   ]
  },
  {
   "cell_type": "code",
   "execution_count": 2,
   "metadata": {
    "ExecuteTime": {
     "end_time": "2018-02-07T13:06:06.241038Z",
     "start_time": "2018-02-07T13:06:06.229855Z"
    }
   },
   "outputs": [
    {
     "name": "stdout",
     "output_type": "stream",
     "text": [
      "Populating the interactive namespace from numpy and matplotlib\n"
     ]
    }
   ],
   "source": [
    "%pylab inline\n",
    "pylab.rcParams['figure.figsize'] = (13, 6)\n",
    "warnings.filterwarnings(action = \"once\")"
   ]
  },
  {
   "cell_type": "code",
   "execution_count": 3,
   "metadata": {
    "ExecuteTime": {
     "end_time": "2018-02-07T13:06:06.406241Z",
     "start_time": "2018-02-07T13:06:06.368194Z"
    }
   },
   "outputs": [
    {
     "name": "stderr",
     "output_type": "stream",
     "text": [
      "/home/josearcos/miniconda3/envs/titanic/lib/python3.5/importlib/_bootstrap.py:222: RuntimeWarning: numpy.dtype size changed, may indicate binary incompatibility. Expected 96, got 88\n",
      "  return f(*args, **kwds)\n"
     ]
    }
   ],
   "source": [
    "model, training_set, test_set = joblib.load(\"../../0-model-to-explain/model_and_data_python.sav\")"
   ]
  },
  {
   "cell_type": "markdown",
   "metadata": {
    "ExecuteTime": {
     "end_time": "2018-02-06T12:54:03.707093Z",
     "start_time": "2018-02-06T12:54:03.704602Z"
    }
   },
   "source": [
    "## Calculate feature importance\n",
    "\n",
    "There are several ways of calculating feature importance. We will use **Permutation Feature Importance**, which has the advantage of being a generic algorithm that can be used in any black box model, and compare the results with other tree-specific methods."
   ]
  },
  {
   "cell_type": "code",
   "execution_count": 4,
   "metadata": {
    "ExecuteTime": {
     "end_time": "2018-02-07T13:06:07.325054Z",
     "start_time": "2018-02-07T13:06:07.318230Z"
    }
   },
   "outputs": [],
   "source": [
    "def score(x, y):\n",
    "    prediction = model.predict(x)\n",
    "    reference = y.values\n",
    "    right = np.sum(np.equal(prediction, reference))\n",
    "    acc = right / len(reference)\n",
    "    return acc"
   ]
  },
  {
   "cell_type": "markdown",
   "metadata": {},
   "source": [
    "We first need a reference accuracy:"
   ]
  },
  {
   "cell_type": "code",
   "execution_count": 5,
   "metadata": {
    "ExecuteTime": {
     "end_time": "2018-02-07T13:06:08.269464Z",
     "start_time": "2018-02-07T13:06:08.246018Z"
    },
    "code_folding": []
   },
   "outputs": [
    {
     "name": "stdout",
     "output_type": "stream",
     "text": [
      "Reference accuracy: 0.7803030303030303\n"
     ]
    },
    {
     "name": "stderr",
     "output_type": "stream",
     "text": [
      "/home/josearcos/miniconda3/envs/titanic/lib/python3.5/site-packages/sklearn/preprocessing/label.py:151: DeprecationWarning: The truth value of an empty array is ambiguous. Returning False, but in future this will result in an error. Use `array.size > 0` to check that an array is not empty.\n",
      "  if diff:\n"
     ]
    }
   ],
   "source": [
    "X_test = test_set.drop(columns=\"Survived\")\n",
    "acc_ref = score(x = X_test, y = test_set.Survived)\n",
    "print(\"Reference accuracy: {}\".format(acc_ref))"
   ]
  },
  {
   "cell_type": "markdown",
   "metadata": {},
   "source": [
    "Now we need a function to permute a dataframe column. Let's create it!"
   ]
  },
  {
   "cell_type": "code",
   "execution_count": 6,
   "metadata": {
    "ExecuteTime": {
     "end_time": "2018-02-07T13:06:09.313672Z",
     "start_time": "2018-02-07T13:06:09.309851Z"
    }
   },
   "outputs": [],
   "source": [
    "def permute_column(df, column_index):\n",
    "    return np.random.permutation(df.iloc[:,column_index])"
   ]
  },
  {
   "cell_type": "markdown",
   "metadata": {},
   "source": [
    "Now let's build a function that calculates the importance of a particular feature:"
   ]
  },
  {
   "cell_type": "code",
   "execution_count": 7,
   "metadata": {
    "ExecuteTime": {
     "end_time": "2018-02-07T13:06:10.325282Z",
     "start_time": "2018-02-07T13:06:10.310150Z"
    }
   },
   "outputs": [],
   "source": [
    "def feature_importance(test_data, test_labels, \n",
    "                       column_index, model, \n",
    "                       acc_ref, n_permutations = 2):\n",
    "    \n",
    "    importances = np.zeros(shape = (n_permutations))\n",
    "   # pdb.set_trace()\n",
    "    for i in range(n_permutations):\n",
    "        test_data.iloc[:, column_index] = permute_column(test_data, column_index)\n",
    "        acc = score(test_data, test_labels)\n",
    "        importances[i] = acc_ref - acc\n",
    "        \n",
    "    return importances\n",
    "    "
   ]
  },
  {
   "cell_type": "markdown",
   "metadata": {},
   "source": [
    "Nice! Let's now calculate the importance of all our no-one-hot-encoded features:"
   ]
  },
  {
   "cell_type": "code",
   "execution_count": 12,
   "metadata": {
    "ExecuteTime": {
     "end_time": "2018-02-07T13:10:49.687083Z",
     "start_time": "2018-02-07T13:10:49.684148Z"
    }
   },
   "outputs": [],
   "source": [
    "N_PERM = 500"
   ]
  },
  {
   "cell_type": "code",
   "execution_count": 13,
   "metadata": {
    "ExecuteTime": {
     "end_time": "2018-02-07T13:11:10.291508Z",
     "start_time": "2018-02-07T13:11:10.284964Z"
    }
   },
   "outputs": [
    {
     "data": {
      "text/plain": [
       "Index(['Sex', 'Age', 'SibSp', 'Parch', 'Fare', 'Pclass_1', 'Pclass_2',\n",
       "       'Pclass_3', 'Embarked_C', 'Embarked_Q', 'Embarked_S'],\n",
       "      dtype='object')"
      ]
     },
     "execution_count": 13,
     "metadata": {},
     "output_type": "execute_result"
    }
   ],
   "source": [
    "X_test.columns"
   ]
  },
  {
   "cell_type": "code",
   "execution_count": 14,
   "metadata": {
    "ExecuteTime": {
     "end_time": "2018-02-07T13:11:46.164449Z",
     "start_time": "2018-02-07T13:11:41.686776Z"
    }
   },
   "outputs": [
    {
     "name": "stderr",
     "output_type": "stream",
     "text": [
      "/home/josearcos/miniconda3/envs/titanic/lib/python3.5/site-packages/sklearn/preprocessing/label.py:151: DeprecationWarning: The truth value of an empty array is ambiguous. Returning False, but in future this will result in an error. Use `array.size > 0` to check that an array is not empty.\n",
      "  if diff:\n"
     ]
    }
   ],
   "source": [
    "permutation_feature_importance = list()\n",
    "feature_list = [0,1,2,3,4]\n",
    "\n",
    "for i in feature_list:\n",
    "    permutation_feature_importance.append(\n",
    "        feature_importance(\n",
    "            test_data = X_test,\n",
    "            test_labels = test_set.Survived, \n",
    "            column_index = i,\n",
    "            model = model,\n",
    "            acc_ref = acc_ref,\n",
    "            n_permutations = N_PERM\n",
    "        )\n",
    "    )"
   ]
  },
  {
   "cell_type": "markdown",
   "metadata": {},
   "source": [
    "And now we can plot the results:"
   ]
  },
  {
   "cell_type": "code",
   "execution_count": 17,
   "metadata": {
    "ExecuteTime": {
     "end_time": "2018-02-07T13:13:45.244270Z",
     "start_time": "2018-02-07T13:13:45.238927Z"
    }
   },
   "outputs": [],
   "source": [
    "feature_names = [X_test.columns[i] for i in feature_list]\n",
    "x_plot = [value for l in permutation_feature_importance for value in l]\n",
    "y_plot = [f_name for f_name in feature_names for i in range(N_PERM)]"
   ]
  },
  {
   "cell_type": "code",
   "execution_count": 18,
   "metadata": {
    "ExecuteTime": {
     "end_time": "2018-02-07T13:13:46.078571Z",
     "start_time": "2018-02-07T13:13:45.886541Z"
    }
   },
   "outputs": [
    {
     "data": {
      "image/png": "[encoded data removed]",
      "text/plain": [
       "<matplotlib.figure.Figure at 0x7f39a5412a20>"
      ]
     },
     "metadata": {},
     "output_type": "display_data"
    }
   ],
   "source": [
    "sns.boxplot(x = x_plot, y = y_plot);\n",
    "plt.axvline(x = 0);\n",
    "plt.xlabel(\"Feature importance\");"
   ]
  },
  {
   "cell_type": "markdown",
   "metadata": {},
   "source": [
    "Mmmmm, hay algo mal aquí... REVISA"
   ]
  }
 ],
 "metadata": {
  "kernelspec": {
   "display_name": "Python 3",
   "language": "python",
   "name": "python3"
  },
  "language_info": {
   "codemirror_mode": {
    "name": "ipython",
    "version": 3
   },
   "file_extension": ".py",
   "mimetype": "text/x-python",
   "name": "python",
   "nbconvert_exporter": "python",
   "pygments_lexer": "ipython3",
   "version": "3.5.4"
  },
  "varInspector": {
   "cols": {
    "lenName": 16,
    "lenType": 16,
    "lenVar": 40
   },
   "kernels_config": {
    "python": {
     "delete_cmd_postfix": "",
     "delete_cmd_prefix": "del ",
     "library": "var_list.py",
     "varRefreshCmd": "print(var_dic_list())"
    },
    "r": {
     "delete_cmd_postfix": ") ",
     "delete_cmd_prefix": "rm(",
     "library": "var_list.r",
     "varRefreshCmd": "cat(var_dic_list()) "
    }
   },
   "types_to_exclude": [
    "module",
    "function",
    "builtin_function_or_method",
    "instance",
    "_Feature"
   ],
   "window_display": true
  }
 },
 "nbformat": 4,
 "nbformat_minor": 2
}
